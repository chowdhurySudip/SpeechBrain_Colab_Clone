{
  "nbformat": 4,
  "nbformat_minor": 0,
  "metadata": {
    "colab": {
      "provenance": [],
      "collapsed_sections": []
    },
    "kernelspec": {
      "display_name": "Python 3",
      "name": "python3"
    }
  },
  "cells": [
    {
      "cell_type": "markdown",
      "metadata": {
        "id": "5ZZTjoafZw49"
      },
      "source": [
        "# Tutorial on data loading\n",
        "\n",
        "Handling data consumes 90% of the active work time in many machine learning projects. \n",
        "\n",
        "SpeechBrain complements standard PyTorch data loading in handling variable-length sequences, large datasets, and complex data transformation pipelines. These are typical challenges when working with speech, but SpeechBrain tries not to make assumptions about your data."
      ]
    },
    {
      "cell_type": "markdown",
      "metadata": {
        "id": "EnirXev8XUyt"
      },
      "source": [
        "## Install dependencies\n"
      ]
    },
    {
      "cell_type": "code",
      "metadata": {
        "id": "DPX-4BBbX5L9"
      },
      "source": [
        "%%capture\n",
        "!pip install speechbrain\n",
        "import speechbrain\n",
        "import torch"
      ],
      "execution_count": null,
      "outputs": []
    },
    {
      "cell_type": "markdown",
      "metadata": {
        "id": "HL_oCiDyoP8Y"
      },
      "source": [
        "In this tutorial we will use MiniLibriSpeech from https://www.openslr.org/resources/31: we download the validation set in the following two cells as well as images and scripts. "
      ]
    },
    {
      "cell_type": "code",
      "metadata": {
        "id": "vtSWx0KAX5L9"
      },
      "source": [
        "%%capture\n",
        "# here we download the material needed for this tutorial: images and an example based on mini-librispeech\n",
        "!wget https://www.dropbox.com/s/b61lo6gkpuplanq/MiniLibriSpeechTutorial.tar.gz?dl=0\n",
        "!tar -xvzf MiniLibriSpeechTutorial.tar.gz?dl=0\n",
        "# downloading mini_librispeech dev data\n",
        "!wget https://www.openslr.org/resources/31/dev-clean-2.tar.gz\n",
        "!tar -xvzf dev-clean-2.tar.gz"
      ],
      "execution_count": null,
      "outputs": []
    },
    {
      "cell_type": "markdown",
      "metadata": {
        "id": "HBlTW2Mq5S35"
      },
      "source": [
        "# Preface: PyTorch data loading pipeline\n",
        "\n",
        "SpeechBrain data-IO follows and extends [PyTorch data loading](https://pytorch.org/docs/stable/data.html). This preface section recaps PyTorch data loading and does not yet consider the SpeechBrain data loading extensions. \n",
        "\n",
        "## Overview\n",
        "PyTorch data loading can run in many configurations,\n",
        "but a typical approach has these basic elements:\n",
        "- a [Dataset](https://pytorch.org/docs/stable/data.html#torch.utils.data.Dataset), which loads data points one-at-a-time.\n",
        "- a [collation function](https://pytorch.org/docs/stable/data.html#dataloader-collate-fn), or ``collate_fn`` for short, which takes a list of data points and forms a batch.\n",
        "- a [Sampler](https://pytorch.org/docs/stable/data.html#data-loading-order-and-sampler), which determines the order in which the Dataset is iterated.\n",
        "- a [DataLoader](https://pytorch.org/docs/stable/data.html#torch.utils.data.DataLoader), which combines the elements above (and has defaults for ``collate_fn`` and Sampler), and orchestrates the whole pipeline.\n",
        "\n"
      ]
    },
    {
      "cell_type": "markdown",
      "metadata": {
        "id": "qHNJPq6PfInp"
      },
      "source": [
        "## Dataset\n",
        "The role of the Dataset is to produce single data points. Typically they are loaded off the disk, but they could also come from some more complex source or in some cases just from RAM. You can write your own Dataset subclass or sometimes you can use a standardized class, such as [this](https://pytorch.org/docs/stable/torchvision/datasets.html#datasetfolder). The training, validation, and test subsets get their own Dataset instances.\n",
        "\n",
        "The Dataset interface is simple; it implements\n",
        "`__getitem__` and usually also `__len__`. Usually, \"map-style\" Datasets are used, but it's worth noting that PyTorch also has a notion of [IterableDataset](https://pytorch.org/docs/stable/data.html#iterable-style-datasets)s.\n",
        "\n",
        "`__getitem__` can return _anything_ because data can look like _anything_. Often, though, a data point consists of multiple associated things (e.g. an image and a label, or a speech waveform and its transcription). The Dataset should return all of these associated things.\n",
        "\n",
        "It is also relatively common for the Dataset to somehow transform the data on the fly, on the CPU.\n"
      ]
    },
    {
      "cell_type": "markdown",
      "metadata": {
        "id": "huVMufrKo9uf"
      },
      "source": [
        "\n",
        "## Collation function\n",
        "The ``collate_fn`` just converts a list of examples into a PyTorch tensor batch. If the data has variable-length sequences, ``collate_fn`` usually needs to implement padding."
      ]
    },
    {
      "cell_type": "markdown",
      "metadata": {
        "id": "ZmGerYfHpBxu"
      },
      "source": [
        "## Sampler\n",
        "Typically users don't need to create their own sampler; the two default options are to iterate in the original Dataset order or to iterate in random order.\n"
      ]
    },
    {
      "cell_type": "markdown",
      "metadata": {
        "id": "fpuhtBUEpECO"
      },
      "source": [
        "\n",
        "## DataLoader\n",
        "The DataLoader takes the other elements above and many other arguments such as batch size. The DataLoader has basic defaults for all arguments (except the Dataset, of course), but it's worthwhile to understand the [args](https://pytorch.org/docs/stable/data.html#torch.utils.data.DataLoader).\n",
        "\n",
        "The DataLoader object is iterated in the training loop, and every Dataset instance (e.g. training, validation, test) gets its own DataLoader.\n",
        "```python\n",
        "train_loader = DataLoader(train_data, collate_fn=PaddedBatch, batch_size=32, num_workers=2)\n",
        "for batch in train_loader:\n",
        "    pred = model(batch.signal)\n",
        "    ...\n",
        "```\n",
        "\n",
        "The iterator that DataLoader returns can either load batches in the same process that it is created in (`num_workers=0`), or it can start a new process (`num_workers=1`) or multiple new processes (`num_workers>1`). Because of the Global Interpreter Lock, Python cannot work on two tasks at the same time in a single process. Using at least one background worker process to load data while simultaneously running training is often essential for taking full advantage of GPU compute resources."
      ]
    },
    {
      "cell_type": "markdown",
      "metadata": {
        "id": "ZdapE8K_mUkP"
      },
      "source": [
        "# SpeechBrain Basic dataIO\n",
        "SpeechBrain basic data loading pipeline is illustrated in the Figure below."
      ]
    },
    {
      "cell_type": "code",
      "metadata": {
        "colab": {
          "base_uri": "https://localhost:8080/",
          "height": 481
        },
        "id": "IMuEjjg8jsCo",
        "outputId": "a5f87b7f-3d44-4f89-a854-b8bf293cfd82"
      },
      "source": [
        "from IPython.display import Image\n",
        "Image('sbdataio.png', width=1000) "
      ],
      "execution_count": null,
      "outputs": [
        {
          "output_type": "execute_result",
          "data": {
            "image/png": "[encoded data removed]",
            "text/plain": [
              "<IPython.core.display.Image object>"
            ]
          },
          "metadata": {
            "image/png": {
              "width": 1000
            }
          },
          "execution_count": 3
        }
      ]
    },
    {
      "cell_type": "markdown",
      "metadata": {
        "id": "eTOup2tV-oHz"
      },
      "source": [
        "Note that also more advanced/flexible pipelines are possible, where users can integrate their own custom Datasets, DataLoaders, and Samplers. These are illustrated in the [dataIO Advanced tutorial](todo). "
      ]
    },
    {
      "cell_type": "markdown",
      "metadata": {
        "id": "4rXqNQYb_Taw"
      },
      "source": [
        "The basic dataIO pipeline is organized around three \"key\" blocks: **DynamicItemDataset**, **Dynamic Items Pipelines (DIPs)**  and **CategoricalEncoder** which are tightly connected. \n",
        "\n",
        "**DynamicItemDataset** inherits from `torch.utils.data.Dataset` and has been built to work together with **Dynamic Items Pipelines** to provide a straightforward and flexible way to fetch and transform data and labels from the raw dataset stored in your disk.\n",
        "\n",
        "**DIPs** consists of user-defined functions in which the user specifies operations applied to metadata and data contained in the dataset. E.g. reading and augmenting an audio file or encoding a sequence of words using SentencePiece tokenizer. \n",
        "These functions are called inside **DynamicItemDataset** `__getitem__` method and are run in parallel on the CPU. \n",
        "\n",
        "The **CategoricalEncoder** is a convenient abstraction we provide for multi-class classification problems and it is sub-classed into **TextEncoder** and **CTCTextEncoder** which instead can be used for sequence-to-sequence applications related to text, such as ASR. \n",
        "\n",
        "\n",
        "Thanks to these abstractions, most of the work necessary to set up the data IO pipeline is parsing the dataset into suitable annotation supported by **DynamicItemDataset** (SpeechBrain supports both CSV and JSON formats).\n",
        "\n",
        "\n",
        "Once this annotation is ready, a flexible and efficient pipeline can be created in few lines of code, as SpeechBrain will take care under the hood of padding and other operations.\n",
        "\n"
      ]
    },
    {
      "cell_type": "markdown",
      "metadata": {
        "id": "kOmWMuv_XDg4"
      },
      "source": [
        "In the following tutorial, we will explain in detail how these blocks work. \n",
        "We will start from the required CSV or JSON annotation whose purpose is to represent and describe the information contained in the dataset.\n",
        "For example:\n",
        "\n",
        "*   Paths to audio files, pre-extracted features et cetera.\n",
        "*   Metadata such as words spoken in the audio files, Signal-to-Noise-Ratio, sound event tags, speaker identities et cetera. \n",
        "\n",
        "Basically any information required to train your algorithm. "
      ]
    },
    {
      "cell_type": "markdown",
      "metadata": {
        "id": "T9VSd39Cmqxm"
      },
      "source": [
        "## Dataset Annotation\n",
        "\n",
        "SpeechBrain offers native support for JSON and CSV formats for **describing a dataset** and, in fact, in official recipes (such as LibriSpeech ASR recipes) we provide parsing scripts to obtain such formats.  "
      ]
    },
    {
      "cell_type": "markdown",
      "metadata": {
        "id": "ZFaNums8qj1J"
      },
      "source": [
        "We can take a glimpse to how these files can be structured using the downloaded Mini-LibriSpeech example.\n",
        "\n",
        "\n",
        "Each file in Mini-LibriSpeech is an utterance from a single speaker, thus either JSON and CSV formats can be used to contain the absolute path to that file, the speaker identity and the words the speaker utters. This is enough to build an Automatic Speech Recognition (ASR) system.\n",
        "\n",
        "Below we can take a look at how the JSON file used for the trivial speaker recognition example illustrated before is structured:"
      ]
    },
    {
      "cell_type": "code",
      "metadata": {
        "id": "Jngugj4Ij9rV"
      },
      "source": [
        "from parse_data import parse_to_json # parse_data is a local library downloaded at the step before\n",
        "parse_to_json(\"./LibriSpeech/dev-clean-2\") # how to build this function will be shown later"
      ],
      "execution_count": null,
      "outputs": []
    },
    {
      "cell_type": "code",
      "metadata": {
        "id": "-3W88LmJrYRH",
        "colab": {
          "base_uri": "https://localhost:8080/"
        },
        "outputId": "f9836634-064a-493f-cad6-6601a56dd515"
      },
      "source": [
        "!head data.json"
      ],
      "execution_count": null,
      "outputs": [
        {
          "output_type": "stream",
          "name": "stdout",
          "text": [
            "{\n",
            "    \"5338-284437-0014\": {\n",
            "        \"file_path\": \"./LibriSpeech/dev-clean-2/5338/284437/5338-284437-0014.flac\",\n",
            "        \"words\": \"ARE YOU A GIANT\",\n",
            "        \"spkID\": \"speaker_5338\",\n",
            "        \"length\": 29520\n",
            "    },\n",
            "    \"5338-284437-0007\": {\n",
            "        \"file_path\": \"./LibriSpeech/dev-clean-2/5338/284437/5338-284437-0007.flac\",\n",
            "        \"words\": \"THE PEOPLE MUST WAIT OUTSIDE FOR THERE IS NO ROOM FOR THEM IN THE PALACE\",\n"
          ]
        }
      ]
    },
    {
      "cell_type": "markdown",
      "metadata": {
        "id": "6RfqKxBzQr9J"
      },
      "source": [
        "Thus the JSON file is a dictionary where each key is unique and corresponds to a single example (the key is the example ID). Each example is in its turn a dictionary containing the path to the utterance `file_path`, the `words` spoken the identity of the speaker `spkID` and the `length` in samples of the audio in `file_path`."
      ]
    },
    {
      "cell_type": "markdown",
      "metadata": {
        "id": "gg4W-JUgdmYB"
      },
      "source": [
        "the CSV file also has an equivalent structure: "
      ]
    },
    {
      "cell_type": "code",
      "metadata": {
        "id": "ehBvBh1LrZfO",
        "colab": {
          "base_uri": "https://localhost:8080/"
        },
        "outputId": "3013cfaf-c1a9-4347-9775-91f282c0e73e"
      },
      "source": [
        "# csv file \n",
        "from parse_data import parse_to_csv\n",
        "parse_to_csv(\"./LibriSpeech/dev-clean-2\")\n",
        "!head data.csv"
      ],
      "execution_count": null,
      "outputs": [
        {
          "output_type": "stream",
          "name": "stdout",
          "text": [
            ",id,file_path,words,spkID,duration\n",
            "0,5338-284437-0014,./LibriSpeech/dev-clean-2/5338/284437/5338-284437-0014.flac,ARE YOU A GIANT,speaker_5338,29520\n",
            "1,5338-284437-0007,./LibriSpeech/dev-clean-2/5338/284437/5338-284437-0007.flac,THE PEOPLE MUST WAIT OUTSIDE FOR THERE IS NO ROOM FOR THEM IN THE PALACE,speaker_5338,59200\n",
            "2,5338-284437-0026,./LibriSpeech/dev-clean-2/5338/284437/5338-284437-0026.flac,AFTER MY DEATH A PINK MARBLE STATUE OF ME WILL BE SET UP IN THE GRAND COURT WITH THE STATUES OF THE OTHER KINGS AND QUEENS WHO HAVE RULED THIS LAND AND ALL THE PINKIES IN AGES TO COME WILL THEN HONOR ME AS HAVING BEEN A JUST AND UPRIGHT QUEEN THAT IS MY REWARD,speaker_5338,254800\n",
            "3,5338-284437-0016,./LibriSpeech/dev-clean-2/5338/284437/5338-284437-0016.flac,THERE IS NOTHING MAJESTIC ABOUT ME AS YOU KNOW VERY WELL,speaker_5338,53920\n",
            "4,5338-284437-0024,./LibriSpeech/dev-clean-2/5338/284437/5338-284437-0024.flac,THE QUEEN HAS NOTHING BUT THE POWER TO EXECUTE THE LAWS TO ADJUST GRIEVANCES AND TO COMPEL ORDER,speaker_5338,95760\n",
            "5,5338-284437-0005,./LibriSpeech/dev-clean-2/5338/284437/5338-284437-0005.flac,THESE INTRUDERS ARE VERY PECULIAR PEOPLE REMARKED A MAN IN THE CROWD,speaker_5338,83360\n",
            "6,5338-284437-0027,./LibriSpeech/dev-clean-2/5338/284437/5338-284437-0027.flac,A MISFORTUNE OF BIRTH PLACED ME HERE AND I CANNOT ESCAPE MY FATE,speaker_5338,63520\n",
            "7,5338-284437-0019,./LibriSpeech/dev-clean-2/5338/284437/5338-284437-0019.flac,BUT SURELY THAT IS ALL WRONG SAID TOURMALINE GRAVELY,speaker_5338,49840\n",
            "8,5338-284437-0015,./LibriSpeech/dev-clean-2/5338/284437/5338-284437-0015.flac,PERHAPS YOU ARE TRYING TO RIDICULE ME SHE CONTINUED REGARDING THE SAILOR'S FACE CLOSELY,speaker_5338,85280\n"
          ]
        }
      ]
    },
    {
      "cell_type": "markdown",
      "metadata": {
        "id": "P9YLGDk0XdG-"
      },
      "source": [
        "Unlike other toolkits which have a rather strict requirements on how a dataset must be specified to be able to process it **we do not impose any restriction on JSON and CSV syntax except the requirement for a different unique ID string for every single example**. \n",
        "\n",
        "This means that the JSON file must contain a dictionary whose keys are the example ids and each entry of the dictionary contains metadata for that example. Instead, CSV files, must have at least one column called id. \n",
        "\n",
        "These are the only strict requirements to guarantee that the JSON and CSV dataset description files will work with SpeechBrain data IO pipeline. \n",
        "\n",
        "Users are given great flexibility in how to represent their datasets in the JSON and CSV files as their goals and applications could be different: speech separation, enhancement, ASR, diarization, VAD et cetera.\n",
        "\n",
        "This because in SpeechBrain we aim at many different tasks and datasets. \n",
        "\n",
        "- **Every Dataset is unique**, it can be single channel or multichannel, it can provide different metadata such as speaker IDs, or speaker positions or even \n",
        "multi-modal data such as audio and video. \n",
        "\n",
        "- **Every task is unique**, the annotation used in this example is suitable for applications like ASR and Speaker Recognition. But for diarization, for example, the user would like to have also the start and stop (in seconds, frames whatever !) of each uttererance too. \n",
        "\n",
        "This also allows to keep the annotation very simple and focused to the particular task with only the necessary information for the current application, instead of having a cumbersone do-it-all annotation. \n",
        "\n",
        "\n",
        "**TIP** \n",
        "\n",
        "It is useful, when building the parsing script, to have a `length` or `duration` for each example containing the length of the example in seconds or samples or even frames. This allows for subsequent operations such as filtering examples that are too long (to avoid OOM issues) or sorting them for faster training. Regarding CSV files if a `duration` column is specified it is automatically cast to float when a DynamicItemDataset is built from the CSV. \n",
        "\n",
        "\n"
      ]
    },
    {
      "cell_type": "markdown",
      "metadata": {
        "id": "frGoZYqCrb3A"
      },
      "source": [
        "As mentioned, **these files must be produced by a suitable parsing script**, which is provided in our recipes and depends on the dataset and the task. \n",
        "However if one wish to use its own custom dataset a parsing script must be written in order to produce *JSON* or CSV files describing the data.\n",
        " \n",
        "**NOTE** \n",
        "\n",
        "A separate file for each split (training, validation/development, test) must be provided. "
      ]
    },
    {
      "cell_type": "markdown",
      "metadata": {
        "id": "MaRLh0xpT88B"
      },
      "source": [
        "On the other hand, creating those files should be rather easy for most datasets as Python offers many tools for manipulating CSV and JSON files (such as [pandas](https://pandas.pydata.org/)). In fact parsing the data to JSON, for example, can be done in few lines of codes:"
      ]
    },
    {
      "cell_type": "code",
      "metadata": {
        "id": "N-UPJi6v93w_",
        "colab": {
          "base_uri": "https://localhost:8080/"
        },
        "outputId": "76cd7664-a056-4c10-db14-da41c9563349"
      },
      "source": [
        "import glob\n",
        "import json \n",
        "import os \n",
        "import torchaudio\n",
        "from pathlib import Path\n",
        "\n",
        "dev_clean_root = \"./LibriSpeech/dev-clean-2\"\n",
        "flac_files = glob.glob(os.path.join(dev_clean_root, \"**/*.flac\"), recursive=True)\n",
        "print(\"tot flac audio files {}\".format(len(flac_files)))\n",
        "\n",
        "flac_files[0]\n",
        "# in this dataset files names are spk_id-chapter_id-utterance_id.flac\n",
        "text_files = glob.glob(os.path.join(dev_clean_root, \"**/*.txt\"), recursive=True)\n",
        "# we build a dictionary with words for each utterance \n",
        "words_dict = {}\n",
        "for txtf in text_files:\n",
        "  with open(txtf, \"r\") as f:\n",
        "    lines = f.readlines()\n",
        "  for l in lines:\n",
        "    l = l.strip(\"\\n\")\n",
        "    utt_id = l.split(\" \")[0]\n",
        "    words = \" \".join(l.split(\" \")[1:])\n",
        "    words_dict[utt_id] = words\n",
        "\n",
        "# we now build JSON examples \n",
        "\n",
        "examples = {}\n",
        "for utterance in flac_files:\n",
        "  utt_id = Path(utterance).stem\n",
        "  examples[utt_id] = {\"file_path\": utterance, \n",
        "                      \"words\": words_dict[utt_id], \n",
        "                      \"spkID\": utt_id.split(\"-\")[0], \n",
        "                      \"length\": torchaudio.info(utterance).num_frames}\n",
        "\n",
        "\n",
        "with open(\"data.json\", \"w\") as f:\n",
        "  json.dump(examples, f, indent=4)\n",
        "\n",
        "print(examples[list(examples.keys())[0]])"
      ],
      "execution_count": null,
      "outputs": [
        {
          "output_type": "stream",
          "name": "stdout",
          "text": [
            "tot flac audio files 1089\n",
            "{'file_path': './LibriSpeech/dev-clean-2/5338/284437/5338-284437-0014.flac', 'words': 'ARE YOU A GIANT', 'spkID': '5338', 'length': 29520}\n"
          ]
        }
      ]
    },
    {
      "cell_type": "markdown",
      "metadata": {
        "id": "fIHCwY-BunQ1"
      },
      "source": [
        "## DynamicItemDataset \n",
        "\n",
        "**DynamicItemDataset** is at the heart of SpeechBrain data pipeline and is built on top of `torch.utils.data.Dataset`. \n",
        "\n",
        "As the name implies it allows the **dynamical creation of new \"objects\"** from the entries specified in the JSON (or CSV) dataset annotation. "
      ]
    },
    {
      "cell_type": "code",
      "metadata": {
        "id": "QOjqauY9i6Ll"
      },
      "source": [
        "#`creating a DynamiItemDataset instance from JSON or CSV annotation is immediate\n",
        "from speechbrain.dataio.dataset import DynamicItemDataset\n",
        "\n",
        "dataset = DynamicItemDataset.from_json(\"data.json\") # or equivalently, DynamicItemDataset.from_csv(\"data.csv\")"
      ],
      "execution_count": null,
      "outputs": []
    },
    {
      "cell_type": "markdown",
      "metadata": {
        "id": "340CyO9Pj965"
      },
      "source": [
        "What does it mean dynamical creation of \"objects\" from the entries specified in the data.json annotation ? "
      ]
    },
    {
      "cell_type": "code",
      "metadata": {
        "id": "epqTBMW6j4SB",
        "colab": {
          "base_uri": "https://localhost:8080/"
        },
        "outputId": "75b6cf8a-df04-4f17-f6b3-b005902ffc88"
      },
      "source": [
        "dataset[0] "
      ],
      "execution_count": null,
      "outputs": [
        {
          "output_type": "execute_result",
          "data": {
            "text/plain": [
              "{}"
            ]
          },
          "metadata": {},
          "execution_count": 9
        }
      ]
    },
    {
      "cell_type": "markdown",
      "metadata": {
        "id": "Na1uMIKokMXs"
      },
      "source": [
        "As it is now, this `Dataset` object does not return anything. \n",
        "\n",
        "Dynamical creation means exactly that, **items the user wants to be returned must be specified** in some way by the user. These items can depend on the entries specified in the data.json examples: "
      ]
    },
    {
      "cell_type": "code",
      "metadata": {
        "id": "5RPpu88_k_b2",
        "colab": {
          "base_uri": "https://localhost:8080/"
        },
        "outputId": "3ffbaa0f-cb6b-484c-f0e0-4394de3df3eb"
      },
      "source": [
        "print(examples[list(examples.keys())[0]].keys())"
      ],
      "execution_count": null,
      "outputs": [
        {
          "output_type": "stream",
          "name": "stdout",
          "text": [
            "dict_keys(['file_path', 'words', 'spkID', 'length'])\n"
          ]
        }
      ]
    },
    {
      "cell_type": "markdown",
      "metadata": {
        "id": "CETiI0IglI3L"
      },
      "source": [
        "Namely from `['file_path', 'words', 'spkID', 'length']`. \n",
        "\n",
        "For example one \"dynamic item\" could be the audio signal which will depend on the `'file_path'` key. Another one could be the `spkID` encoded to an integer value if one wishes to perform speaker recognition or, for ASR, it could be the words encoded by a tokenizer. \n",
        "\n",
        "To obtain these \"items\" one should specify in some way a function which, when applied to the corresponding key, will provide the new item. \n",
        "\n",
        "E.g. a function which reads the audio when applied to `'file_path'` key. in order to make the `Dataset` class return, for each example. the audio signal. \n"
      ]
    },
    {
      "cell_type": "markdown",
      "metadata": {
        "id": "UMXJkQi5usJg"
      },
      "source": [
        "## Dynamic Item Pipelines (DIPs)\n",
        "\n",
        "This task is handled by specifying **Dynamic Item Pipelines** for each dynamic item the user wants to get from the dataset. The user can specify an arbitrary number of pipelines. \n",
        "\n",
        "For example, regarding the audio signal:"
      ]
    },
    {
      "cell_type": "code",
      "metadata": {
        "id": "IuEewb4yoB-g"
      },
      "source": [
        "@speechbrain.utils.data_pipeline.takes(\"file_path\")\n",
        "@speechbrain.utils.data_pipeline.provides(\"signal\")\n",
        "def audio_pipeline(file_path):\n",
        "      sig = speechbrain.dataio.dataio.read_audio(file_path)\n",
        "      return sig"
      ],
      "execution_count": null,
      "outputs": []
    },
    {
      "cell_type": "markdown",
      "metadata": {
        "id": "sYELrX1GocuG"
      },
      "source": [
        "We specify a function that takes the `file_path` for each examle and provides a new item called `sig` which is a tensor containing the audio. \n",
        "\n",
        "\n",
        "We use here some pre-built function in `speechbrain.dataio.dataio` for reading audio. But the user can also use its own. \n",
        "\n",
        "Once specified, the pipeline must be added to the `DynamicItemDataset` object and, following, the outputs requested by the user should be specified with the `set_output_keys` method. \n",
        "We request two items in the output: a new one `sig` and also `file_path` which is in the JSON annotation. "
      ]
    },
    {
      "cell_type": "code",
      "metadata": {
        "id": "IjfzuoFxowKF",
        "colab": {
          "base_uri": "https://localhost:8080/"
        },
        "outputId": "bf3893b8-4ae9-4854-8026-a9ca6c17622f"
      },
      "source": [
        "dataset.add_dynamic_item(audio_pipeline) \n",
        "dataset.set_output_keys([\"signal\", \"file_path\"],\n",
        "    )\n",
        "dataset[0]"
      ],
      "execution_count": null,
      "outputs": [
        {
          "output_type": "execute_result",
          "data": {
            "text/plain": [
              "{'file_path': './LibriSpeech/dev-clean-2/5338/284437/5338-284437-0014.flac',\n",
              " 'signal': tensor([ 2.1362e-04,  6.1035e-05, -3.0518e-05,  ...,  3.0518e-04,\n",
              "          3.9673e-04,  3.9673e-04])}"
            ]
          },
          "metadata": {},
          "execution_count": 12
        }
      ]
    },
    {
      "cell_type": "markdown",
      "metadata": {
        "id": "1_qZ_CYHQMdt"
      },
      "source": [
        "Note that a more compact syntax can be used for applying a simple function like reading the audio file. "
      ]
    },
    {
      "cell_type": "code",
      "metadata": {
        "id": "d3ACymf1JQsP",
        "colab": {
          "base_uri": "https://localhost:8080/"
        },
        "outputId": "505ead0b-9577-4b5c-f65c-884976ee877b"
      },
      "source": [
        "dataset.add_dynamic_item(speechbrain.dataio.dataio.read_audio, takes=\"file_path\", provides=\"signal\")\n",
        "dataset.set_output_keys([\"id\", \"signal\", \"words\"])\n",
        "dataset[0]"
      ],
      "execution_count": null,
      "outputs": [
        {
          "output_type": "execute_result",
          "data": {
            "text/plain": [
              "{'id': '5338-284437-0014',\n",
              " 'signal': tensor([ 2.1362e-04,  6.1035e-05, -3.0518e-05,  ...,  3.0518e-04,\n",
              "          3.9673e-04,  3.9673e-04]),\n",
              " 'words': 'ARE YOU A GIANT'}"
            ]
          },
          "metadata": {},
          "execution_count": 13
        }
      ]
    },
    {
      "cell_type": "markdown",
      "metadata": {
        "id": "ngjASy73p4Pc"
      },
      "source": [
        "Now the dataset object will return this new specified item \"sig\" as well as the `file_path` as specified in the JSON:  "
      ]
    },
    {
      "cell_type": "code",
      "metadata": {
        "id": "2nnvmJ_xqArq",
        "colab": {
          "base_uri": "https://localhost:8080/",
          "height": 317
        },
        "outputId": "ce3a24df-8906-4182-8b6e-24da713afcc4"
      },
      "source": [
        "print(dataset[0])\n",
        "import matplotlib.pyplot as plt\n",
        "plt.figure(1)\n",
        "plt.title(\"Sig item\")\n",
        "plt.plot(dataset[0][\"signal\"])\n",
        "plt.show()"
      ],
      "execution_count": null,
      "outputs": [
        {
          "output_type": "stream",
          "name": "stdout",
          "text": [
            "{'id': '5338-284437-0014', 'signal': tensor([ 2.1362e-04,  6.1035e-05, -3.0518e-05,  ...,  3.0518e-04,\n",
            "         3.9673e-04,  3.9673e-04]), 'words': 'ARE YOU A GIANT'}\n"
          ]
        },
        {
          "output_type": "display_data",
          "data": {
            "image/png": "[encoded data removed]",
            "text/plain": [
              "<Figure size 432x288 with 1 Axes>"
            ]
          },
          "metadata": {
            "needs_background": "light"
          }
        }
      ]
    },
    {
      "cell_type": "markdown",
      "metadata": {
        "id": "oL0MnsAyqet_"
      },
      "source": [
        "It can be seen that the `DynamicItemDataset` object returns the two specified items from the JSON annotation. \n",
        "\n",
        "The `file_path` item, is taken directly, as it is, from the JSON annotation without further processing. \n",
        "The other one is instead a new item derived from `file_path` item with the pipeline we have defined before. "
      ]
    },
    {
      "cell_type": "markdown",
      "metadata": {
        "id": "vk3vEoWHroqE"
      },
      "source": [
        "There is no constraints in what can be done in the pipelines: as said the user can also use its own functions:"
      ]
    },
    {
      "cell_type": "code",
      "metadata": {
        "id": "EKIlpL3zrnac",
        "colab": {
          "base_uri": "https://localhost:8080/"
        },
        "outputId": "627238a6-c0d5-4ef4-bb16-284ab438d434"
      },
      "source": [
        "!pip install soundfile\n",
        "import soundfile as sf\n",
        "@speechbrain.utils.data_pipeline.takes(\"file_path\")\n",
        "@speechbrain.utils.data_pipeline.provides(\"sig_numpy\")\n",
        "def audio_pipeline_numpy(file_path):\n",
        "      sig, _ = sf.read(file_path, dtype=\"float32\")\n",
        "      return sig"
      ],
      "execution_count": null,
      "outputs": [
        {
          "output_type": "stream",
          "name": "stdout",
          "text": [
            "Requirement already satisfied: soundfile in /usr/local/lib/python3.7/dist-packages (0.10.3.post1)\n",
            "Requirement already satisfied: cffi>=1.0 in /usr/local/lib/python3.7/dist-packages (from soundfile) (1.14.6)\n",
            "Requirement already satisfied: pycparser in /usr/local/lib/python3.7/dist-packages (from cffi>=1.0->soundfile) (2.20)\n"
          ]
        }
      ]
    },
    {
      "cell_type": "code",
      "metadata": {
        "id": "Q89JrIT2t4IQ",
        "colab": {
          "base_uri": "https://localhost:8080/"
        },
        "outputId": "f0b5b282-6424-4eaf-90d9-9ea8188a1d14"
      },
      "source": [
        "speechbrain.dataio.dataset.add_dynamic_item([dataset], audio_pipeline_numpy) \n",
        "speechbrain.dataio.dataset.set_output_keys(\n",
        "        [dataset], [\"signal\", \"file_path\", \"sig_numpy\"],\n",
        "    )\n",
        "dataset[0]"
      ],
      "execution_count": null,
      "outputs": [
        {
          "output_type": "execute_result",
          "data": {
            "text/plain": [
              "{'file_path': './LibriSpeech/dev-clean-2/5338/284437/5338-284437-0014.flac',\n",
              " 'sig_numpy': array([ 2.1362305e-04,  6.1035156e-05, -3.0517578e-05, ...,\n",
              "         3.0517578e-04,  3.9672852e-04,  3.9672852e-04], dtype=float32),\n",
              " 'signal': tensor([ 2.1362e-04,  6.1035e-05, -3.0518e-05,  ...,  3.0518e-04,\n",
              "          3.9673e-04,  3.9673e-04])}"
            ]
          },
          "metadata": {},
          "execution_count": 16
        }
      ]
    },
    {
      "cell_type": "markdown",
      "metadata": {
        "id": "PkBvDF3IuFG_"
      },
      "source": [
        "The dataset object now also returns the signal as read with the soundfile library instead of only the one with read with the built-in speechbrain function which is based on torchaudio. "
      ]
    },
    {
      "cell_type": "markdown",
      "metadata": {
        "id": "j9W6Jseaua_m"
      },
      "source": [
        "**Multiple outputs can be specified by one pipeline by using python generators syntax**. \n",
        "\n",
        "In the example below three outputs are specified, the last two depend directly from the first one (sig) and are transformed version of this latter: with a random gain factor `rand_gain_sig` and with a constant offset `offset_sig`."
      ]
    },
    {
      "cell_type": "code",
      "metadata": {
        "id": "uiA8ccBevMMC",
        "colab": {
          "base_uri": "https://localhost:8080/",
          "height": 335
        },
        "outputId": "d2f90650-3113-447f-cf09-785a9d0aebda"
      },
      "source": [
        "import random\n",
        "@speechbrain.utils.data_pipeline.takes(\"file_path\")\n",
        "@speechbrain.utils.data_pipeline.provides(\"sig\", \"rand_gain_sig\", \"offset_sig\")\n",
        "def audio_pipeline(file_path):\n",
        "      sig = speechbrain.dataio.dataio.read_audio(file_path)\n",
        "      yield sig\n",
        "      rand_gain_sig = random.random()*sig\n",
        "      yield rand_gain_sig\n",
        "      offset_sig = sig + 1\n",
        "      yield offset_sig\n",
        "\n",
        "\n",
        "speechbrain.dataio.dataset.add_dynamic_item([dataset], audio_pipeline) \n",
        "speechbrain.dataio.dataset.set_output_keys(\n",
        "        [dataset], [\"sig\", \"rand_gain_sig\", \"offset_sig\"],\n",
        "    )\n",
        "\n",
        "print(dataset[0])\n",
        "import matplotlib.pyplot as plt\n",
        "plt.figure(1)\n",
        "plt.title(\"Sig item\")\n",
        "plt.plot(dataset[0][\"sig\"])\n",
        "\n",
        "plt.title(\"Sig item with random gain\")\n",
        "plt.plot(dataset[0][\"rand_gain_sig\"])\n",
        "\n",
        "plt.title(\"Sig item offset\")\n",
        "plt.plot(dataset[0][\"offset_sig\"])\n",
        "plt.legend([\"sig\", \"rand_gain_sig\", \"offset_sig\"])\n",
        "plt.show()"
      ],
      "execution_count": null,
      "outputs": [
        {
          "output_type": "stream",
          "name": "stdout",
          "text": [
            "{'sig': tensor([ 2.1362e-04,  6.1035e-05, -3.0518e-05,  ...,  3.0518e-04,\n",
            "         3.9673e-04,  3.9673e-04]), 'rand_gain_sig': tensor([ 1.4045e-04,  4.0129e-05, -2.0064e-05,  ...,  2.0064e-04,\n",
            "         2.6084e-04,  2.6084e-04]), 'offset_sig': tensor([1.0002, 1.0001, 1.0000,  ..., 1.0003, 1.0004, 1.0004])}\n"
          ]
        },
        {
          "output_type": "display_data",
          "data": {
            "image/png": "[encoded data removed]",
            "text/plain": [
              "<Figure size 432x288 with 1 Axes>"
            ]
          },
          "metadata": {
            "needs_background": "light"
          }
        }
      ]
    },
    {
      "cell_type": "markdown",
      "metadata": {
        "id": "7tzJSmbT7kT_"
      },
      "source": [
        "This toy example demonstrates that multiple items can be fetched from the same pipeline and dynamically created items can depend on other dynamically created items (`offset_sig` depends on `sig`). "
      ]
    },
    {
      "cell_type": "markdown",
      "metadata": {
        "id": "et85McvM9Lhu"
      },
      "source": [
        "But dynamic items can also depend on dynamically created items from another, pre-specified pipeline: \n"
      ]
    },
    {
      "cell_type": "code",
      "metadata": {
        "id": "f0EYYxh670AI",
        "colab": {
          "base_uri": "https://localhost:8080/"
        },
        "outputId": "cd897f0a-c50d-4c27-f9d7-7cd04c0391ca"
      },
      "source": [
        "@speechbrain.utils.data_pipeline.takes(\"sig\")\n",
        "@speechbrain.utils.data_pipeline.provides(\"sig_as_python_list\")\n",
        "def to_list_pipeline(sig):\n",
        "      yield sig.numpy().tolist()\n",
        "\n",
        "\n",
        "speechbrain.dataio.dataset.add_dynamic_item([dataset], to_list_pipeline) \n",
        "speechbrain.dataio.dataset.set_output_keys(\n",
        "        [dataset], [\"sig_as_python_list\"],\n",
        "    )\n",
        "dataset[0][\"sig_as_python_list\"][:10]"
      ],
      "execution_count": null,
      "outputs": [
        {
          "output_type": "execute_result",
          "data": {
            "text/plain": [
              "[0.000213623046875,\n",
              " 6.103515625e-05,\n",
              " -3.0517578125e-05,\n",
              " 9.1552734375e-05,\n",
              " 9.1552734375e-05,\n",
              " 0.000152587890625,\n",
              " 0.000152587890625,\n",
              " 0.00018310546875,\n",
              " 9.1552734375e-05,\n",
              " 9.1552734375e-05]"
            ]
          },
          "metadata": {},
          "execution_count": 18
        }
      ]
    },
    {
      "cell_type": "markdown",
      "metadata": {
        "id": "HcTAPOk_-mOP"
      },
      "source": [
        "In this example we have defined a new pipeline which takes `sig` and turns it from `torch.tensor` to a python list obtaining a new dynamic item `sig_as_python_list`. \n",
        "\n",
        "\n",
        "**NOTE**\n",
        "\n",
        "\n",
        "Since we are requesting in the output only `sig_as_python_list` which depends itself from `sig`, dynamic items `offset_sig` and `rand_gain_sig` are not computed at all. Only `sig` is computed implicitly as it is necessary to obtain `sig_as_python_list`. \n",
        "\n",
        "\n",
        "In fact under the hood `DynamicItemDataset` finds a suitable evaluation\n",
        "order for the requested items by constructing a **computational graph** defined by the **pipelines**. \n",
        "\n",
        "**An error is returned if any circular dependency is present between the pipelines**. \n"
      ]
    },
    {
      "cell_type": "markdown",
      "metadata": {
        "id": "eFLiGm6xh3tZ"
      },
      "source": [
        "A **DIP** can also take multiple items/annotation keys in input, the syntax is the same as for the output items:"
      ]
    },
    {
      "cell_type": "code",
      "metadata": {
        "id": "HH9WhV1ih28l",
        "colab": {
          "base_uri": "https://localhost:8080/"
        },
        "outputId": "4b047524-1d7b-4faa-864b-86f0e837ba1c"
      },
      "source": [
        "@speechbrain.utils.data_pipeline.takes(\"file_path\", \"spkID\")\n",
        "@speechbrain.utils.data_pipeline.provides(\"sig\", \"spkidstring\")\n",
        "def multiple_dip(file_path, spkID):\n",
        "      sig = speechbrain.dataio.dataio.read_audio(file_path)\n",
        "      yield sig\n",
        "      yield spkID\n",
        "      \n",
        "speechbrain.dataio.dataset.add_dynamic_item([dataset], multiple_dip) \n",
        "speechbrain.dataio.dataset.set_output_keys(\n",
        "        [dataset], [\"sig\", \"spkidstring\"],\n",
        "    )\n",
        "dataset[0]"
      ],
      "execution_count": null,
      "outputs": [
        {
          "output_type": "execute_result",
          "data": {
            "text/plain": [
              "{'sig': tensor([ 2.1362e-04,  6.1035e-05, -3.0518e-05,  ...,  3.0518e-04,\n",
              "          3.9673e-04,  3.9673e-04]), 'spkidstring': '5338'}"
            ]
          },
          "metadata": {},
          "execution_count": 19
        }
      ]
    },
    {
      "cell_type": "code",
      "metadata": {
        "id": "YPN3AXaVjQka",
        "colab": {
          "base_uri": "https://localhost:8080/"
        },
        "outputId": "ccc19f81-4e09-4bd0-da55-b4e805be5e3b"
      },
      "source": [
        "@speechbrain.utils.data_pipeline.takes(\"file_path\", \"spkID\")\n",
        "@speechbrain.utils.data_pipeline.provides(\"sig\")\n",
        "def multiple_dip(file_path, spkID):\n",
        "      sig = speechbrain.dataio.dataio.read_audio(file_path)\n",
        "      yield sig, spkID \n",
        "      \n",
        "      \n",
        "speechbrain.dataio.dataset.add_dynamic_item([dataset], multiple_dip) \n",
        "speechbrain.dataio.dataset.set_output_keys(\n",
        "        [dataset], [\"sig\"],\n",
        "    )\n",
        "dataset[0] # sig now is a tuple"
      ],
      "execution_count": null,
      "outputs": [
        {
          "output_type": "execute_result",
          "data": {
            "text/plain": [
              "{'sig': (tensor([ 2.1362e-04,  6.1035e-05, -3.0518e-05,  ...,  3.0518e-04,\n",
              "           3.9673e-04,  3.9673e-04]), '5338')}"
            ]
          },
          "metadata": {},
          "execution_count": 20
        }
      ]
    },
    {
      "cell_type": "markdown",
      "metadata": {
        "id": "uXKHONsvTDTs"
      },
      "source": [
        "And also the same **DIP** can be used in multiple datasets. \n",
        "E.g. you want usually the read audio **DIP** to be the same for validation, training and test:"
      ]
    },
    {
      "cell_type": "code",
      "metadata": {
        "id": "wGLev2Q1U534",
        "colab": {
          "base_uri": "https://localhost:8080/"
        },
        "outputId": "946b1c2a-e40a-410e-fb6c-87ac59b2c18c"
      },
      "source": [
        "validation = DynamicItemDataset.from_json(\"data.json\")\n",
        "train = DynamicItemDataset.from_json(\"data.json\")\n",
        "\n",
        "speechbrain.dataio.dataset.add_dynamic_item([validation, train], speechbrain.dataio.dataio.read_audio, takes=\"file_path\", provides=\"signal\")\n",
        "speechbrain.dataio.dataset.set_output_keys([validation, train], [\"id\", \"signal\", \"words\"])\n",
        "validation[0]\n"
      ],
      "execution_count": null,
      "outputs": [
        {
          "output_type": "execute_result",
          "data": {
            "text/plain": [
              "{'id': '5338-284437-0014',\n",
              " 'signal': tensor([ 2.1362e-04,  6.1035e-05, -3.0518e-05,  ...,  3.0518e-04,\n",
              "          3.9673e-04,  3.9673e-04]),\n",
              " 'words': 'ARE YOU A GIANT'}"
            ]
          },
          "metadata": {},
          "execution_count": 21
        }
      ]
    },
    {
      "cell_type": "code",
      "metadata": {
        "id": "JVrWPCG1VZ_t",
        "colab": {
          "base_uri": "https://localhost:8080/"
        },
        "outputId": "3f9d87c0-8bf7-44e2-f2d6-94cf4f5d2f22"
      },
      "source": [
        "train[0]"
      ],
      "execution_count": null,
      "outputs": [
        {
          "output_type": "execute_result",
          "data": {
            "text/plain": [
              "{'id': '5338-284437-0014',\n",
              " 'signal': tensor([ 2.1362e-04,  6.1035e-05, -3.0518e-05,  ...,  3.0518e-04,\n",
              "          3.9673e-04,  3.9673e-04]),\n",
              " 'words': 'ARE YOU A GIANT'}"
            ]
          },
          "metadata": {},
          "execution_count": 22
        }
      ]
    },
    {
      "cell_type": "markdown",
      "metadata": {
        "id": "WZJnmyiou6cK"
      },
      "source": [
        "## CategoricalEncoder "
      ]
    },
    {
      "cell_type": "markdown",
      "metadata": {
        "id": "18cYd9eT7iuZ"
      },
      "source": [
        "SpeechBrain `dataio` provides a `CategoricalEncoder` class for encoding labels which belongs to a discrete set: e.g. for speaker recognition or any other multi-class classification problem. \n",
        "\n",
        "Given a collection of hashables (e.g. strings) it encodes\n",
        "    every unique item to an integer value: `[\"spk0\", \"spk1\"]` --> `[0, 1]`\n",
        "\n",
        "\n",
        "  Internally the correspondence between each label to its index is handled by\n",
        "  two dictionaries: `lab2ind` and `ind2lab`.\n",
        "\n",
        "It is built to tighly integrate with `DynamicItemDataset` and `dataIO pipelines`.\n",
        "\n",
        "For example one can obtain the encoding for speaker identities (`spkID` in JSON) from our Mini-LibriSpeech dataset by creating an instance of CategoricalEncoder and fitting it to the dataset object."
      ]
    },
    {
      "cell_type": "code",
      "metadata": {
        "id": "oAKvZSz5DX-N"
      },
      "source": [
        "from speechbrain.dataio.encoder import CategoricalEncoder\n",
        "spk_id_encoder = CategoricalEncoder()"
      ],
      "execution_count": null,
      "outputs": []
    },
    {
      "cell_type": "markdown",
      "metadata": {
        "id": "7ICJwSyUDyHL"
      },
      "source": [
        "Since `DynamicItemDataset` right now does not return spkID we have firstly to set its output to return that dynamic item:"
      ]
    },
    {
      "cell_type": "code",
      "metadata": {
        "id": "OYIqLGDDEBFF",
        "colab": {
          "base_uri": "https://localhost:8080/"
        },
        "outputId": "7cc021e4-672a-4d9c-d591-42031509c742"
      },
      "source": [
        "speechbrain.dataio.dataset.set_output_keys(\n",
        "        [dataset], [\"spkID\"],\n",
        "    )\n",
        "# sig is a torch.tensor with audio signal as specified before. \n",
        "# REMEMBER: no need to specify the pipeline for spkID as we can read directly the value from the JSON. \n",
        "dataset[0]"
      ],
      "execution_count": null,
      "outputs": [
        {
          "output_type": "execute_result",
          "data": {
            "text/plain": [
              "{'spkID': '5338'}"
            ]
          },
          "metadata": {},
          "execution_count": 24
        }
      ]
    },
    {
      "cell_type": "markdown",
      "metadata": {
        "id": "wqIDYxTcEg-s"
      },
      "source": [
        "The speaker identity `spkID` is a string. \n",
        "\n",
        "Note that in librispeech it is a string containing a unique integer so one can argue that performing the encoding here is pointless as casting to integer will suffice.\n",
        "\n",
        "However, it could happen that it is not an unique integer but an unique string like `spk1`, `spk2` et cetera.\n",
        "\n",
        "`spk_id_encoder` can be used for this purpose. We fit the encoder to the dataset and specify which *dynamic item* we want to encode: "
      ]
    },
    {
      "cell_type": "code",
      "metadata": {
        "id": "0JQxKP-9F2-B"
      },
      "source": [
        "spk_id_encoder.update_from_didataset(dataset, \"spkID\")\n"
      ],
      "execution_count": null,
      "outputs": []
    },
    {
      "cell_type": "markdown",
      "metadata": {
        "id": "83_QlLNRXEPl"
      },
      "source": [
        "**NOTE**\n",
        "\n",
        "\n",
        "This will iterate over dataset fetch for each example spkID and construct \n",
        "internal dicts lab2ind and ind2lab.\n",
        "\n",
        "Because of this, it is important to call `dataset.set_output_keys` avoiding \n",
        "computationally costly dynamic items (e.g. can happen if the pipeline does data augmentation) before fitting the encoder. \n",
        "\n",
        "Setting only the key on which the encoder will be fitted is a good approach. "
      ]
    },
    {
      "cell_type": "markdown",
      "metadata": {
        "id": "8U0Qy4DuX9BO"
      },
      "source": [
        "We can look now at how much unique speaker ids there are in the dataset by using `__len__`"
      ]
    },
    {
      "cell_type": "code",
      "metadata": {
        "id": "tz-Ntq0zF-49",
        "colab": {
          "base_uri": "https://localhost:8080/"
        },
        "outputId": "f5396413-32a5-4285-ce09-7fe03945ebea"
      },
      "source": [
        "len(spk_id_encoder)"
      ],
      "execution_count": null,
      "outputs": [
        {
          "output_type": "execute_result",
          "data": {
            "text/plain": [
              "26"
            ]
          },
          "metadata": {},
          "execution_count": 26
        }
      ]
    },
    {
      "cell_type": "markdown",
      "metadata": {
        "id": "5MIcC0sAYBEe"
      },
      "source": [
        "We can also take a look to the encoder internal dictionaries `lab2ind` ans `ind2lab` which contains the mappings between the labels (speaker ids in this case)  and corresponding integers encodings:"
      ]
    },
    {
      "cell_type": "code",
      "metadata": {
        "id": "YoLjI4HtGIgC",
        "colab": {
          "base_uri": "https://localhost:8080/"
        },
        "outputId": "b552c92c-e020-4e89-bf5f-9592cb91cae8"
      },
      "source": [
        " spk_id_encoder.lab2ind\n",
        "# contains label --> integer encoding "
      ],
      "execution_count": null,
      "outputs": [
        {
          "output_type": "execute_result",
          "data": {
            "text/plain": [
              "{'1272': 16,\n",
              " '1462': 8,\n",
              " '174': 6,\n",
              " '1988': 22,\n",
              " '1993': 24,\n",
              " '2035': 15,\n",
              " '2412': 12,\n",
              " '2428': 21,\n",
              " '251': 18,\n",
              " '2803': 9,\n",
              " '3000': 20,\n",
              " '3536': 1,\n",
              " '3576': 4,\n",
              " '3752': 5,\n",
              " '5338': 0,\n",
              " '5694': 3,\n",
              " '5895': 25,\n",
              " '6241': 13,\n",
              " '6295': 10,\n",
              " '6319': 2,\n",
              " '777': 17,\n",
              " '7850': 23,\n",
              " '7976': 7,\n",
              " '8297': 14,\n",
              " '84': 19,\n",
              " '8842': 11}"
            ]
          },
          "metadata": {},
          "execution_count": 27
        }
      ]
    },
    {
      "cell_type": "code",
      "metadata": {
        "id": "Jm23A0dCIuSG",
        "colab": {
          "base_uri": "https://localhost:8080/"
        },
        "outputId": "e73bcb8e-0bdc-4bce-c49c-1b70f4c6a6c8"
      },
      "source": [
        "spk_id_encoder.ind2lab # contains integer encoding --> label"
      ],
      "execution_count": null,
      "outputs": [
        {
          "output_type": "execute_result",
          "data": {
            "text/plain": [
              "{0: '5338',\n",
              " 1: '3536',\n",
              " 2: '6319',\n",
              " 3: '5694',\n",
              " 4: '3576',\n",
              " 5: '3752',\n",
              " 6: '174',\n",
              " 7: '7976',\n",
              " 8: '1462',\n",
              " 9: '2803',\n",
              " 10: '6295',\n",
              " 11: '8842',\n",
              " 12: '2412',\n",
              " 13: '6241',\n",
              " 14: '8297',\n",
              " 15: '2035',\n",
              " 16: '1272',\n",
              " 17: '777',\n",
              " 18: '251',\n",
              " 19: '84',\n",
              " 20: '3000',\n",
              " 21: '2428',\n",
              " 22: '1988',\n",
              " 23: '7850',\n",
              " 24: '1993',\n",
              " 25: '5895'}"
            ]
          },
          "metadata": {},
          "execution_count": 28
        }
      ]
    },
    {
      "cell_type": "markdown",
      "metadata": {
        "id": "DZEqe2d1Vthc"
      },
      "source": [
        "Once fitted the `CategoricalEncoder` object can be used in a suitably defined pipeline to encode the spkID key and return the encoded value: "
      ]
    },
    {
      "cell_type": "code",
      "metadata": {
        "id": "tX43vtVTyuCy"
      },
      "source": [
        "@speechbrain.utils.data_pipeline.takes(\"spkID\")\n",
        "@speechbrain.utils.data_pipeline.provides(\"spkid_encoded\")\n",
        "def spk_id_encoding(spkid):\n",
        "      return torch.LongTensor([spk_id_encoder.encode_label(spkid)]) \n"
      ],
      "execution_count": null,
      "outputs": []
    },
    {
      "cell_type": "code",
      "metadata": {
        "id": "y1A41rDQyy-C",
        "colab": {
          "base_uri": "https://localhost:8080/"
        },
        "outputId": "bfdfcf79-33b3-439f-fd68-38da85322fb6"
      },
      "source": [
        "speechbrain.dataio.dataset.add_dynamic_item([dataset], spk_id_encoding) \n",
        "speechbrain.dataio.dataset.set_output_keys(\n",
        "        [dataset], [\"spkid_encoded\"],\n",
        "    )\n",
        "\n",
        "dataset[100]"
      ],
      "execution_count": null,
      "outputs": [
        {
          "output_type": "execute_result",
          "data": {
            "text/plain": [
              "{'spkid_encoded': tensor([3])}"
            ]
          },
          "metadata": {},
          "execution_count": 30
        }
      ]
    },
    {
      "cell_type": "markdown",
      "metadata": {
        "id": "knC4t9fKvHHU"
      },
      "source": [
        "## PaddedBatch and SaveableDataLoader\n",
        "\n",
        "SpeechBrain offers a way to conveniently pad right automatically tensors of different length on multiple dimensions. \n",
        "This is achieved using the `PaddedBatch` class defined in `speechbrain.dataio.batch`. \n",
        "\n",
        "`PaddedBatch` is both a `collate_fn` and a batch object. \n",
        "\n",
        "When a `torch.utils.data.Dataset` (and thus also a `DynamicItemDataset`) is passed to the `Brain` class `PaddedBatch` is used as the default collate function `collate_fn` and examples are automatically padded together. \n",
        "\n",
        "As the default DataLoader the Brain class instantiates, a SpeechBrain custom DataLoader: `speechbrain.dataio.dataloader.SaveableDataLoader`. \n",
        "\n",
        "\n",
        "This DataLoader is identical to the plain one except that it allows for intra-epoch saving. So if for some reason training stops in the middle of an epoch it is possible to resume from exactly that step. See the [Checkpointing Tutorial](https://colab.research.google.com/drive/1VH7U0oP3CZsUNtChJT2ewbV_q1QX8xre?usp=sharing).\n",
        "The default `collate_fn` for this DataLoader is `PaddedBatch`. \n"
      ]
    },
    {
      "cell_type": "code",
      "metadata": {
        "id": "NtsZ0UA6vLfc"
      },
      "source": [
        "from speechbrain.dataio.dataloader import SaveableDataLoader\n",
        "from speechbrain.dataio.batch import PaddedBatch\n",
        "\n",
        "speechbrain.dataio.dataset.set_output_keys(\n",
        "        [dataset], [\"id\", \"spkid_encoded\", \"signal\"],\n",
        "    )"
      ],
      "execution_count": null,
      "outputs": []
    },
    {
      "cell_type": "markdown",
      "metadata": {
        "id": "Ljw1yIG3xRPT"
      },
      "source": [
        "We set as the dynamic items we are requesting `sig` which is the audio tensor\n",
        "and the speaker id encoded with the `CategoricalEncoder` object (`spkid_encoded`) defined before and the example `id`. "
      ]
    },
    {
      "cell_type": "code",
      "metadata": {
        "id": "puBQt7QRwmnZ"
      },
      "source": [
        "dataloader = SaveableDataLoader(dataset, batch_size=2, collate_fn=PaddedBatch)"
      ],
      "execution_count": null,
      "outputs": []
    },
    {
      "cell_type": "code",
      "metadata": {
        "id": "ccIqOHQkxEmD"
      },
      "source": [
        "batch_obj = next(iter(dataloader)) # let's look at the batch obj "
      ],
      "execution_count": null,
      "outputs": []
    },
    {
      "cell_type": "code",
      "metadata": {
        "id": "cpFw6pycxJNC",
        "colab": {
          "base_uri": "https://localhost:8080/"
        },
        "outputId": "a07ac4c5-fbfd-49f4-f135-b7ef00014341"
      },
      "source": [
        "batch_obj # the dataloader returns an PaddedBatch obj now\n",
        "type(batch_obj)"
      ],
      "execution_count": null,
      "outputs": [
        {
          "output_type": "execute_result",
          "data": {
            "text/plain": [
              "speechbrain.dataio.batch.PaddedBatch"
            ]
          },
          "metadata": {},
          "execution_count": 34
        }
      ]
    },
    {
      "cell_type": "markdown",
      "metadata": {
        "id": "8IZb33Bt0L9d"
      },
      "source": [
        "Dynamic Items can be accessed in the batch object by using `dict` syntax:"
      ]
    },
    {
      "cell_type": "code",
      "metadata": {
        "id": "dB42KZ3AxLth",
        "colab": {
          "base_uri": "https://localhost:8080/"
        },
        "outputId": "eed69bff-0b41-42fa-e7e7-7d7546002029"
      },
      "source": [
        "batch_obj[\"spkid_encoded\"]"
      ],
      "execution_count": null,
      "outputs": [
        {
          "output_type": "execute_result",
          "data": {
            "text/plain": [
              "PaddedData(data=tensor([[0],\n",
              "        [0]]), lengths=tensor([1., 1.]))"
            ]
          },
          "metadata": {},
          "execution_count": 35
        }
      ]
    },
    {
      "cell_type": "code",
      "metadata": {
        "id": "ZKJlXaW10XRg",
        "colab": {
          "base_uri": "https://localhost:8080/"
        },
        "outputId": "0d41b76d-fb11-4213-92ca-6a87f8da8eb7"
      },
      "source": [
        "batch_obj[\"signal\"]"
      ],
      "execution_count": null,
      "outputs": [
        {
          "output_type": "execute_result",
          "data": {
            "text/plain": [
              "PaddedData(data=tensor([[ 2.1362e-04,  6.1035e-05, -3.0518e-05,  ...,  0.0000e+00,\n",
              "          0.0000e+00,  0.0000e+00],\n",
              "        [-9.4604e-04, -9.7656e-04, -9.4604e-04,  ..., -6.1035e-05,\n",
              "          0.0000e+00,  1.2207e-04]]), lengths=tensor([0.4986, 1.0000]))"
            ]
          },
          "metadata": {},
          "execution_count": 36
        }
      ]
    },
    {
      "cell_type": "code",
      "metadata": {
        "id": "gEG6g0sc0ZXn",
        "colab": {
          "base_uri": "https://localhost:8080/"
        },
        "outputId": "3a39d067-2df3-442b-fa83-b48ce5b034a9"
      },
      "source": [
        "batch_obj[\"id\"] # example ids in this batch useful for debugging "
      ],
      "execution_count": null,
      "outputs": [
        {
          "output_type": "execute_result",
          "data": {
            "text/plain": [
              "['5338-284437-0014', '5338-284437-0007']"
            ]
          },
          "metadata": {},
          "execution_count": 37
        }
      ]
    },
    {
      "cell_type": "markdown",
      "metadata": {
        "id": "UF3k_9060g4y"
      },
      "source": [
        "As said, all elements in PaddedBatch which are `torch.Tensors` are padded together by adding zeros to the right. \n",
        "When these elements are accessed a [namedtuple](https://docs.python.org/3/library/collections.html#collections.namedtuple) is returned: the actual padded tensors and a `length` tensor. "
      ]
    },
    {
      "cell_type": "code",
      "metadata": {
        "id": "G2pFsSa702_x"
      },
      "source": [
        "wav_data, length = batch_obj[\"signal\"]"
      ],
      "execution_count": null,
      "outputs": []
    },
    {
      "cell_type": "markdown",
      "metadata": {
        "id": "GhPDU20bcvNA"
      },
      "source": [
        "As it is a [namedtuple](https://docs.python.org/3/library/collections.html#collections.namedtuple) the two items *length* and *data* are also accessible as attributes:"
      ]
    },
    {
      "cell_type": "code",
      "metadata": {
        "id": "glL_x9sqb8vO"
      },
      "source": [
        "lengths = batch_obj[\"signal\"].lengths\n",
        "wav_data = batch_obj[\"signal\"].data"
      ],
      "execution_count": null,
      "outputs": []
    },
    {
      "cell_type": "code",
      "metadata": {
        "id": "YDzqHldc0bBe",
        "colab": {
          "base_uri": "https://localhost:8080/"
        },
        "outputId": "7dc95564-aed8-4c56-f30c-d0e5472db6f6"
      },
      "source": [
        "lengths"
      ],
      "execution_count": null,
      "outputs": [
        {
          "output_type": "execute_result",
          "data": {
            "text/plain": [
              "tensor([0.4986, 1.0000])"
            ]
          },
          "metadata": {},
          "execution_count": 40
        }
      ]
    },
    {
      "cell_type": "markdown",
      "metadata": {
        "id": "zSbkh9tJ08j2"
      },
      "source": [
        "This length tensor contains the relative true length of each sequence. \n",
        "In this example it means that the second example in the batch has not been padded (relative length == 1) while the first instead has been padded to more twice its length.\n",
        "\n",
        "The use of relative lengths instead of absolute indexes guarantees that that these values do not change even after feature extraction: the relative true length remains the same even after STFT whatever is the window. \n",
        "\n",
        "The absolute indexes are easy to obtain:"
      ]
    },
    {
      "cell_type": "code",
      "metadata": {
        "id": "tx8HUi2U1Tsu",
        "colab": {
          "base_uri": "https://localhost:8080/"
        },
        "outputId": "97a4049f-78ff-4f44-a201-cf85509f53d8"
      },
      "source": [
        "abs_lens = (lengths*wav_data.shape[1]).long()\n",
        "abs_lens"
      ],
      "execution_count": null,
      "outputs": [
        {
          "output_type": "execute_result",
          "data": {
            "text/plain": [
              "tensor([29520, 59200])"
            ]
          },
          "metadata": {},
          "execution_count": 43
        }
      ]
    },
    {
      "cell_type": "code",
      "metadata": {
        "id": "KLClRlo-1xjg",
        "colab": {
          "base_uri": "https://localhost:8080/"
        },
        "outputId": "edc99812-f895-47a1-fd77-03612b26d8a5"
      },
      "source": [
        "wav_data[1][:abs_lens[1]] # no zeros"
      ],
      "execution_count": null,
      "outputs": [
        {
          "output_type": "execute_result",
          "data": {
            "text/plain": [
              "tensor([-9.4604e-04, -9.7656e-04, -9.4604e-04,  ..., -6.1035e-05,\n",
              "         0.0000e+00,  1.2207e-04])"
            ]
          },
          "metadata": {},
          "execution_count": 42
        }
      ]
    },
    {
      "cell_type": "code",
      "metadata": {
        "id": "NmH1C4Dx2Fyt",
        "colab": {
          "base_uri": "https://localhost:8080/"
        },
        "outputId": "6291fa3e-8aa9-4175-9c19-c406248bce5a"
      },
      "source": [
        "wav_data[1][abs_lens[1]:] # zeros begins at abs_lens[0]"
      ],
      "execution_count": null,
      "outputs": [
        {
          "output_type": "execute_result",
          "data": {
            "text/plain": [
              "tensor([])"
            ]
          },
          "metadata": {},
          "execution_count": 44
        }
      ]
    },
    {
      "cell_type": "markdown",
      "metadata": {
        "id": "BRIP5d4h2e2Y"
      },
      "source": [
        "The PaddedBatch object allows for conveniently moving all dynamic items which are` torch.Tensor` to the right device using to:"
      ]
    },
    {
      "cell_type": "code",
      "metadata": {
        "id": "gtn6h1hM2Xw2"
      },
      "source": [
        "batch_obj = batch_obj.to(\"cpu\")"
      ],
      "execution_count": null,
      "outputs": []
    },
    {
      "cell_type": "markdown",
      "metadata": {
        "id": "IyZ84-4-20wn"
      },
      "source": [
        "Of course items which are not tensors such as `id` are not moved and are not padded. Instead they are simply returned as a list."
      ]
    },
    {
      "cell_type": "code",
      "metadata": {
        "id": "O8-4oUMw2xNd",
        "colab": {
          "base_uri": "https://localhost:8080/"
        },
        "outputId": "dcf603ce-0d2a-4fc6-eb68-48aa96e36015"
      },
      "source": [
        "batch_obj[\"id\"]"
      ],
      "execution_count": null,
      "outputs": [
        {
          "output_type": "execute_result",
          "data": {
            "text/plain": [
              "['5338-284437-0014', '5338-284437-0007']"
            ]
          },
          "metadata": {},
          "execution_count": 46
        }
      ]
    },
    {
      "cell_type": "markdown",
      "metadata": {
        "id": "Vz09N7Zb3Iho"
      },
      "source": [
        "It is also possible to iterate over the examples of `PaddedBatch`:"
      ]
    },
    {
      "cell_type": "code",
      "metadata": {
        "id": "05vyHnk23H8X",
        "colab": {
          "base_uri": "https://localhost:8080/"
        },
        "outputId": "40692136-ab73-45d2-e161-5c07c1f3b118"
      },
      "source": [
        "for ex in batch_obj:\n",
        "  print(ex)"
      ],
      "execution_count": null,
      "outputs": [
        {
          "output_type": "stream",
          "name": "stdout",
          "text": [
            "['5338-284437-0014', '5338-284437-0007']\n",
            "PaddedData(data=tensor([[0],\n",
            "        [0]]), lengths=tensor([1., 1.]))\n",
            "PaddedData(data=tensor([[ 2.1362e-04,  6.1035e-05, -3.0518e-05,  ...,  0.0000e+00,\n",
            "          0.0000e+00,  0.0000e+00],\n",
            "        [-9.4604e-04, -9.7656e-04, -9.4604e-04,  ..., -6.1035e-05,\n",
            "          0.0000e+00,  1.2207e-04]]), lengths=tensor([0.4986, 1.0000]))\n"
          ]
        }
      ]
    },
    {
      "cell_type": "markdown",
      "metadata": {
        "id": "sXjZOd3O3tt1"
      },
      "source": [
        "And access a single example by its position:"
      ]
    },
    {
      "cell_type": "code",
      "metadata": {
        "id": "2mPr65B22_r8",
        "colab": {
          "base_uri": "https://localhost:8080/"
        },
        "outputId": "b7ce310e-b297-4e70-daa2-eb69e307139b"
      },
      "source": [
        "batch_obj.at_position(1)"
      ],
      "execution_count": null,
      "outputs": [
        {
          "output_type": "execute_result",
          "data": {
            "text/plain": [
              "PaddedData(data=tensor([[0],\n",
              "        [0]]), lengths=tensor([1., 1.]))"
            ]
          },
          "metadata": {},
          "execution_count": 48
        }
      ]
    },
    {
      "cell_type": "markdown",
      "metadata": {
        "id": "Ze8DO5Nj32eE"
      },
      "source": [
        "These methods can be conveniently used in the `Brain` class `compute_forward` and `compute_objectives` methods. \n",
        "As we have shown in the first example of this tutorial where a complete dataIO example was illustrated:\n",
        "\n",
        "\n",
        "\n",
        "\n",
        "```python\n",
        "def compute_forward(self, batch, stage):\n",
        "    audio, audio_len = batch[\"sig\"]\n",
        "    # the examples are automatically padded, audio_len contains the relative \n",
        "    # length of the original sequence. \n",
        "    return self.modules.model(audio.unsqueeze(1)).mean(-1).unsqueeze(-1)\n",
        "    \n",
        "  def compute_objectives(self, logits, batch, stage):\n",
        "    spk_ids, _ = batch[\"spkid_encoded\"]\n",
        "    return torch.nn.functional.cross_entropy(logits, spk_ids)\n",
        "```\n",
        "\n"
      ]
    },
    {
      "cell_type": "markdown",
      "metadata": {
        "id": "ufpPurk3bsvc"
      },
      "source": [
        "# Full Example: Training a simple Speaker Recognition System."
      ]
    },
    {
      "cell_type": "markdown",
      "metadata": {
        "id": "yKox1vfgbyey"
      },
      "source": [
        "Hereafter we show how the **DynamicItemDataset**, **DIPs** and **CategoricalEncoder** can be used to build a data pipeline for Speaker Recognition. \n",
        "\n",
        "In particular we have to:\n",
        "\n",
        "- read the audio\n",
        "- read the speaker ID from annotation and encode it to integer\n"
      ]
    },
    {
      "cell_type": "markdown",
      "metadata": {
        "id": "_0e4ksGZpErL"
      },
      "source": [
        "We firstly instantiate the dataset from tha JSON annotation"
      ]
    },
    {
      "cell_type": "code",
      "metadata": {
        "id": "9RKlcn6JpKo9"
      },
      "source": [
        "dataset = DynamicItemDataset.from_json(\"data.json\")"
      ],
      "execution_count": null,
      "outputs": []
    },
    {
      "cell_type": "markdown",
      "metadata": {
        "id": "KdI7Uakdi1kh"
      },
      "source": [
        "Then fit the **CategoricalEncoder** to speaker IDs (`spkID`) in the annotation."
      ]
    },
    {
      "cell_type": "code",
      "metadata": {
        "id": "4dLTFQyPi0yk"
      },
      "source": [
        "spk_id_encoder = CategoricalEncoder()\n",
        "spk_id_encoder.update_from_didataset(dataset, \"spkID\")"
      ],
      "execution_count": null,
      "outputs": []
    },
    {
      "cell_type": "markdown",
      "metadata": {
        "id": "aM2U403ejF3b"
      },
      "source": [
        "We add the **DIP** which encodes `spkID`"
      ]
    },
    {
      "cell_type": "code",
      "metadata": {
        "id": "IRWERFtjjFEF"
      },
      "source": [
        "dataset.add_dynamic_item(spk_id_encoder.encode_label_torch, takes=\"spkID\", provides=\"spk_encoded\")\n"
      ],
      "execution_count": null,
      "outputs": []
    },
    {
      "cell_type": "markdown",
      "metadata": {
        "id": "2PNpmwVZjPLn"
      },
      "source": [
        "We add the **DIP** for reading the audio\n"
      ]
    },
    {
      "cell_type": "code",
      "metadata": {
        "id": "L4ccm3_KjSOF"
      },
      "source": [
        "dataset.add_dynamic_item(speechbrain.dataio.dataio.read_audio, takes=\"file_path\", provides=\"signal\")\n"
      ],
      "execution_count": null,
      "outputs": []
    },
    {
      "cell_type": "markdown",
      "metadata": {
        "id": "0_oJNpxkpgqF"
      },
      "source": [
        "and set the outputs of the dataset we want to access in training loop"
      ]
    },
    {
      "cell_type": "code",
      "metadata": {
        "id": "sahSr0yJpkhY"
      },
      "source": [
        "dataset.set_output_keys([\"id\", \"signal\", \"spk_encoded\"])"
      ],
      "execution_count": null,
      "outputs": []
    },
    {
      "cell_type": "markdown",
      "metadata": {
        "id": "Ovhe-jc8jWzh"
      },
      "source": [
        "We sort the dataset based on length to speed up training so that we minimize in batches the amount of padded elements. "
      ]
    },
    {
      "cell_type": "code",
      "metadata": {
        "id": "jG36aYVvjWB7"
      },
      "source": [
        "sorted_data = dataset.filtered_sorted(sort_key=\"length\")"
      ],
      "execution_count": null,
      "outputs": []
    },
    {
      "cell_type": "markdown",
      "metadata": {
        "id": "IPGrUCU5kNY3"
      },
      "source": [
        "We can train now a simple classifier, by passing the dataset object directly to the **Brain** class. The **Brain** class will automatically create a SaveableDataLoader with specified `train_loader_kwargs` and will be handling the padding for you. "
      ]
    },
    {
      "cell_type": "code",
      "metadata": {
        "id": "OFFiFjaek8uN",
        "colab": {
          "base_uri": "https://localhost:8080/"
        },
        "outputId": "3985085f-7555-4b29-eb23-d3545843f314"
      },
      "source": [
        "from speechbrain.lobes.features import MFCC, Fbank\n",
        "from speechbrain.nnet.losses import nll_loss\n",
        "\n",
        "\n",
        "class SimpleBrain(speechbrain.Brain):\n",
        "    def compute_forward(self, batch, stage):\n",
        "        example_batch = batch\n",
        "        x = self.modules.features(batch.signal.data)\n",
        "        x = self.modules.encoder(x)\n",
        "        x = self.modules.pooling(x, batch.signal.lengths)\n",
        "        x = self.modules.to_output(x)\n",
        "        return self.modules.softmax(x)\n",
        "    \n",
        "    def compute_objectives(self, logits, batch, stage):\n",
        "        return nll_loss(logits, batch.spk_encoded.data)\n",
        "\n",
        "modules = {\"features\": Fbank(left_frames=1, right_frames=1),\n",
        "          \"encoder\": torch.nn.Sequential(torch.nn.Linear(40, 256),\n",
        "                                       torch.nn.ReLU()),\n",
        "          \"pooling\": speechbrain.nnet.pooling.StatisticsPooling(),\n",
        "          \"to_output\": torch.nn.Linear(512, len(spk_id_encoder)),\n",
        "          \"softmax\": speechbrain.nnet.activations.Softmax(apply_log=True)}\n",
        "brain = SimpleBrain(modules, opt_class=lambda x: torch.optim.SGD(x, 1))\n",
        "brain.fit(range(1), train_set=sorted_data, \n",
        "          train_loader_kwargs={\"batch_size\": 8, \"drop_last\":True})"
      ],
      "execution_count": null,
      "outputs": [
        {
          "output_type": "stream",
          "name": "stderr",
          "text": [
            "100%|██████████| 136/136 [00:20<00:00,  6.50it/s, train_loss=17.1]\n"
          ]
        }
      ]
    },
    {
      "cell_type": "markdown",
      "metadata": {
        "id": "lvCQK0beq8Fc"
      },
      "source": [
        "# Acknowledgements\n",
        "\n",
        "\n",
        "\n",
        "*   Many thanks to Nasser Benabderrazik ([lenassero](https://github.com/lenassero)) who helped improving this Tutorial. \n",
        "\n",
        "\n",
        "\n"
      ]
    },
    {
      "cell_type": "markdown",
      "metadata": {
        "id": "ltjuqqffCxEG"
      },
      "source": [
        "# **About SpeechBrain**\n",
        "- Website: https://speechbrain.github.io/\n",
        "- Code: https://github.com/speechbrain/speechbrain/\n",
        "- HuggingFace: https://huggingface.co/speechbrain/\n",
        "\n",
        "\n",
        "# **Citing SpeechBrain**\n",
        "Please, cite SpeechBrain if you use it for your research or business.\n",
        "\n",
        "```bibtex\n",
        "@misc{speechbrain,\n",
        "  title={{SpeechBrain}: A General-Purpose Speech Toolkit},\n",
        "  author={Mirco Ravanelli and Titouan Parcollet and Peter Plantinga and Aku Rouhe and Samuele Cornell and Loren Lugosch and Cem Subakan and Nauman Dawalatabad and Abdelwahab Heba and Jianyuan Zhong and Ju-Chieh Chou and Sung-Lin Yeh and Szu-Wei Fu and Chien-Feng Liao and Elena Rastorgueva and François Grondin and William Aris and Hwidong Na and Yan Gao and Renato De Mori and Yoshua Bengio},\n",
        "  year={2021},\n",
        "  eprint={2106.04624},\n",
        "  archivePrefix={arXiv},\n",
        "  primaryClass={eess.AS},\n",
        "  note={arXiv:2106.04624}\n",
        "}\n",
        "```"
      ]
    }
  ]
}